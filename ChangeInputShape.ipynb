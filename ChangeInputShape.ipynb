{
  "nbformat": 4,
  "nbformat_minor": 0,
  "metadata": {
    "colab": {
      "name": "Untitled328.ipynb",
      "provenance": [],
      "authorship_tag": "ABX9TyPYI7zNZiZMYD/8S4qJJU3g",
      "include_colab_link": true
    },
    "kernelspec": {
      "name": "python3",
      "display_name": "Python 3"
    },
    "language_info": {
      "name": "python"
    }
  },
  "cells": [
    {
      "cell_type": "markdown",
      "metadata": {
        "id": "view-in-github",
        "colab_type": "text"
      },
      "source": [
        "<a href=\"https://colab.research.google.com/github/MohammedBaz/MusicGAN/blob/main/ChangeInputShape.ipynb\" target=\"_parent\"><img src=\"https://colab.research.google.com/assets/colab-badge.svg\" alt=\"Open In Colab\"/></a>"
      ]
    },
    {
      "cell_type": "code",
      "metadata": {
        "colab": {
          "base_uri": "https://localhost:8080/"
        },
        "id": "Xgh6wAMDP7Bq",
        "outputId": "a4df5cec-3a23-44bb-bb3a-f2d5250d31cf"
      },
      "source": [
        "def ReshapeArrayTimeStepY(Inputarray,TimeStep):\n",
        "  OutputArray=numpy.empty([len(Inputarray)-TimeStep,])\n",
        "  for i in range(len(Inputarray)-TimeStep):\n",
        "    OutputArray[i]=Inputarray[i+TimeStep]\n",
        "  OutputArray=OutputArray.reshape(len(OutputArray),1)\n",
        "  return OutputArray\n",
        "\n",
        "def ReshapeArrayTimeStepX(Inputarray,TimeStep):\n",
        "  OutputArray=numpy.empty([len(Inputarray)-TimeStep,TimeStep])\n",
        "  for i in range(len(Inputarray)-TimeStep):\n",
        "    OutputArray[i,:]=Inputarray[i:i+TimeStep]\n",
        "  OutputArray=OutputArray.reshape(len(OutputArray),TimeStep,1)\n",
        "  return OutputArray\n",
        "\n",
        "\n",
        "def KerasAPImodel(Trainingdataset,TrainingStep=1):\n",
        "  from keras.layers import Input,Dense\n",
        "  from keras.layers.recurrent import LSTM\n",
        "  from keras.models import Model\n",
        "  visible1=Input(shape=(TrainingStep,1))\n",
        "  hidden1=LSTM(100,activation='relu')(visible1)\n",
        "  hidden2=Dense(10)(hidden1)\n",
        "  hidden3=Dense(10)(hidden2)\n",
        "  hidden4=Dense(10)(hidden3)\n",
        "  hidden5=Dense(10)(hidden4)\n",
        "  output=Dense(1)(hidden5)\n",
        "  model=Model(inputs=visible1, outputs=output)\n",
        "  model.compile(optimizer='adam', loss='mse')\n",
        "  model.fit(ReshapeArrayTimeStepX(Trainingdataset,TrainingStep),\n",
        "            ReshapeArrayTimeStepY(Trainingdataset,TrainingStep), \n",
        "            epochs=50, verbose=0)\n",
        "  return model\n",
        "\n",
        "import numpy \n",
        "Trainingdataset=[1,2,3,4,5]\n",
        "from google.colab import drive\n",
        "drive.mount('/content/gdrive')\n",
        "from keras.models import load_model\n",
        "TrainingStep=1\n",
        "model=KerasAPImodel(Trainingdataset)\n",
        "yhat=model.predict(numpy.array(Trainingdataset[-TrainingStep]).reshape(1,TrainingStep,1))\n",
        "print(yhat)\n",
        "model.save('/content/gdrive/MyDrive/guitar/FuckingModel.h5')\n",
        "\n",
        "lodedmodel = load_model('/content/gdrive/MyDrive/guitar/FuckingModel.h5')\n",
        "lodedmodel.summary()\n",
        "lodedmodel.get_weights()\n",
        "\n",
        "newMofifiedModel=KerasAPImodel(Trainingdataset,2)\n",
        "newMofifiedModel.set_weights(lodedmodel.get_weights())\n",
        "\n",
        "yhat=newMofifiedModel.predict(numpy.array(Trainingdataset[-3:-1]).reshape(1,2,1))\n",
        "print(yhat)"
      ],
      "execution_count": 22,
      "outputs": [
        {
          "output_type": "stream",
          "name": "stdout",
          "text": [
            "[[3.6410437]]\n"
          ]
        }
      ]
    }
  ]
}