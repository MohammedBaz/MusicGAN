{
  "nbformat": 4,
  "nbformat_minor": 0,
  "metadata": {
    "colab": {
      "name": "Untitled325.ipynb",
      "provenance": [],
      "collapsed_sections": [],
      "authorship_tag": "ABX9TyMJnwUv04K0ZPUhgkwYBLiG",
      "include_colab_link": true
    },
    "kernelspec": {
      "name": "python3",
      "display_name": "Python 3"
    },
    "language_info": {
      "name": "python"
    }
  },
  "cells": [
    {
      "cell_type": "markdown",
      "metadata": {
        "id": "view-in-github",
        "colab_type": "text"
      },
      "source": [
        "<a href=\"https://colab.research.google.com/github/MohammedBaz/MusicGAN/blob/main/Untitled325.ipynb\" target=\"_parent\"><img src=\"https://colab.research.google.com/assets/colab-badge.svg\" alt=\"Open In Colab\"/></a>"
      ]
    },
    {
      "cell_type": "code",
      "metadata": {
        "colab": {
          "base_uri": "https://localhost:8080/",
          "height": 374
        },
        "id": "03PZCZXZ-o1z",
        "outputId": "7eb323e9-176e-4d14-df53-e08b04eaaf9c"
      },
      "source": [
        "def LibraryforPrintandPlayMusic():\n",
        "  print('installing lilypond...')\n",
        "  !apt-get install lilypond > /dev/null\n",
        "  # converts midi files to wav files into order to play them\n",
        "  print('installing fluidsynth...')\n",
        "  !apt-get install fluidsynth > /dev/null\n",
        "  !cp /usr/share/sounds/sf2/FluidR3_GM.sf2 ./font.sf2\n",
        "  print('done!')\n",
        "\n",
        "def show(music):\n",
        "  display(Image(str(music.write('lily.png'))))\n",
        "\n",
        "def play(music):\n",
        "  filename = music.write('mid')\n",
        "  !fluidsynth -ni font.sf2 $filename -F $filename\\.wav -r 16000 > /dev/null\n",
        "  display(Audio(filename + '.wav'))\n",
        "\n",
        "def CreateNewNote(UsingMidiNumber,withduration,SpecificInstrument=None):\n",
        "  #The main responsbility of this function is to generate a random note by setting  each of its attribute to a value within corrosping range:\n",
        "  if (not (UsingMidiNumber)): # a note can be generated etiher by setting its midi number (an integer number within[0-127]) or musical symbols (e.g.,C#1) \n",
        "    randomNote=music21.note.Note(choice(GetPossibleNotenameWithOctave())) #to get a list of all musical symbols we write a function to iterate through all \n",
        "  else:                                                                   #notes and all instrument and them choise one of these list randomly.  \n",
        "    randomNote=music21.note.Note(randint(0,127))                                                                                                                   \n",
        "  if (withduration):\n",
        "    randomNote.duration.quarterLength=GetPossibleDuration() #set the duration in quarter length\n",
        "  randomNote.volume=127 #MIDI volume is the loudness of the entire instrument, while velocity is how hard a note is hit.\n",
        "  randomNote.velocity=127 #here I set the values of both volume and velocity to the maximum values =127.\n",
        "  if SpecificInstrument is not None:\n",
        "    randomNote.midiProgram=choice(GetInstrmentInformation(True)) #set the insrument type  \n",
        "  return(randomNote) \n",
        "\n",
        "def GetInstrmentInformation(gettheNumber):\n",
        "  InstrumentName=[]\n",
        "  InstrumentNumber=[]\n",
        "  InstrumentNumberandName=[[]]\n",
        "  for i in range (127): \n",
        "    try:# Not all numbers from 0 -127 can be used as instrument id, for exmple 2 gives error.\n",
        "        #Morover some instrunment has more than id, e.g., Piano has 6 ids {0,2,3,4,5,6}\n",
        "      bcl = music21.instrument.instrumentFromMidiProgram(i)\n",
        "      InstrumentName.append(bcl.instrumentName)\n",
        "      InstrumentNumber.append(i)\n",
        "      InstrumentNumberandName.append([i, bcl.instrumentName])\n",
        "    except:\n",
        "      i=i+1\n",
        "  if (gettheNumber):\n",
        "    return(InstrumentNumber)\n",
        "  else:\n",
        "    return(InstrumentName)\n",
        "\n",
        "def GetPossibleNotenameWithOctave():\n",
        "  listofInstrumentNos=GetInstrmentInformation(False)\n",
        "  PossibleNotenameWithOctave=[]\n",
        "  for i in range(127):\n",
        "    notex=music21.note.Note(midi=i)\n",
        "    for instrumentid in listofInstrumentNos:\n",
        "      notex.midiProgram=instrumentid\n",
        "      PossibleNotenameWithOctave.append(notex.nameWithOctave)\n",
        "  return(numpy.unique(PossibleNotenameWithOctave))\n",
        "\n",
        "def GetPossibleDuration():\n",
        "  PossibleDuration=[4.0,3.0,3.5,2.0,4.0/3.0,1.0,2.0/3.0,1.5,1.75,0.5,0.75,1.0/3.0,\n",
        "                    0.875,0.25,0.375,1.0/6.0,0.125,1.0/12.0] # this list in quarter lenght noation\n",
        "  return(choice(PossibleDuration))\n",
        "\n",
        "\n",
        "from IPython.display import Image, Audio,clear_output\n",
        "import numpy\n",
        "import music21\n",
        "from random import randint, choice\n",
        "LibraryforPrintandPlayMusic()\n",
        "\n",
        "#CreateNewNote function generates a new random note, \n",
        "#several notes played together forms chrod, they can created by assing a single duration for several notes:\n",
        "newchord=music21.chord.Chord()\n",
        "for i in range(2):\n",
        "  newchord.add(CreateNewNote(True,False,False))\n",
        "newchord.duration.quarterLength=GetPossibleDuration()\n",
        "newchord.show('text')\n",
        "show(newchord)\n",
        "play(newchord)\n",
        "\n",
        "#The second top level of musical objects is parts: it is several notes/chrod with the same instruments\n",
        "#According to my best of knowlege there is no part object in music21, so I use stream\n",
        "newstream=music21.stream.Stream()\n",
        "newstream.append(music21.instrument.instrumentFromMidiProgram(15))\n",
        "for i in range(10):\n",
        "  newstream.append(CreateNewNote(True,True,None))\n",
        "newstream.show('text')\n",
        "play(newstream)\n",
        "show(newstream)\n",
        "\n",
        "#Finally, the Score is multiple stream with the same tempo:\n",
        "newscore=newstream\n",
        "newscore.append(newstream)\n",
        "newscore.append(music21.tempo.MetronomeMark(number=60)) #tempo is the number of beats per minutes\n",
        "play(newstream)\n",
        "show(newstream)\n"
      ],
      "execution_count": 50,
      "outputs": [
        {
          "output_type": "error",
          "ename": "StreamException",
          "evalue": "ignored",
          "traceback": [
            "\u001b[0;31m---------------------------------------------------------------------------\u001b[0m",
            "\u001b[0;31mStreamException\u001b[0m                           Traceback (most recent call last)",
            "\u001b[0;32m<ipython-input-50-f2d8fc24d599>\u001b[0m in \u001b[0;36m<module>\u001b[0;34m()\u001b[0m\n\u001b[1;32m      1\u001b[0m \u001b[0mnewscore\u001b[0m\u001b[0;34m=\u001b[0m\u001b[0mnewstream\u001b[0m\u001b[0;34m\u001b[0m\u001b[0;34m\u001b[0m\u001b[0m\n\u001b[0;32m----> 2\u001b[0;31m \u001b[0mnewscore\u001b[0m\u001b[0;34m.\u001b[0m\u001b[0mappend\u001b[0m\u001b[0;34m(\u001b[0m\u001b[0mnewstream\u001b[0m\u001b[0;34m)\u001b[0m\u001b[0;34m\u001b[0m\u001b[0;34m\u001b[0m\u001b[0m\n\u001b[0m\u001b[1;32m      3\u001b[0m \u001b[0mnewscore\u001b[0m\u001b[0;34m.\u001b[0m\u001b[0mappend\u001b[0m\u001b[0;34m(\u001b[0m\u001b[0mmusic21\u001b[0m\u001b[0;34m.\u001b[0m\u001b[0mtempo\u001b[0m\u001b[0;34m.\u001b[0m\u001b[0mMetronomeMark\u001b[0m\u001b[0;34m(\u001b[0m\u001b[0mnumber\u001b[0m\u001b[0;34m=\u001b[0m\u001b[0;36m60\u001b[0m\u001b[0;34m)\u001b[0m\u001b[0;34m)\u001b[0m\u001b[0;34m\u001b[0m\u001b[0;34m\u001b[0m\u001b[0m\n\u001b[1;32m      4\u001b[0m \u001b[0mplay\u001b[0m\u001b[0;34m(\u001b[0m\u001b[0mnewstream\u001b[0m\u001b[0;34m)\u001b[0m\u001b[0;34m\u001b[0m\u001b[0;34m\u001b[0m\u001b[0m\n\u001b[1;32m      5\u001b[0m \u001b[0mshow\u001b[0m\u001b[0;34m(\u001b[0m\u001b[0mnewstream\u001b[0m\u001b[0;34m)\u001b[0m\u001b[0;34m\u001b[0m\u001b[0;34m\u001b[0m\u001b[0m\n",
            "\u001b[0;32m/usr/local/lib/python3.7/dist-packages/music21/stream/__init__.py\u001b[0m in \u001b[0;36mappend\u001b[0;34m(self, others)\u001b[0m\n\u001b[1;32m   1917\u001b[0m                     \u001b[0;34m\"is not a Music21Object.  Use an ElementWrapper object \"\u001b[0m \u001b[0;34m+\u001b[0m\u001b[0;34m\u001b[0m\u001b[0;34m\u001b[0m\u001b[0m\n\u001b[1;32m   1918\u001b[0m                     \"if this is what you intend\" )\n\u001b[0;32m-> 1919\u001b[0;31m             \u001b[0mself\u001b[0m\u001b[0;34m.\u001b[0m\u001b[0mcoreGuardBeforeAddElement\u001b[0m\u001b[0;34m(\u001b[0m\u001b[0me\u001b[0m\u001b[0;34m)\u001b[0m\u001b[0;34m\u001b[0m\u001b[0;34m\u001b[0m\u001b[0m\n\u001b[0m\u001b[1;32m   1920\u001b[0m             \u001b[0;31m# add this Stream as a location for the new elements, with the\u001b[0m\u001b[0;34m\u001b[0m\u001b[0;34m\u001b[0m\u001b[0;34m\u001b[0m\u001b[0m\n\u001b[1;32m   1921\u001b[0m             \u001b[0;31m# the offset set to the current highestTime\u001b[0m\u001b[0;34m\u001b[0m\u001b[0;34m\u001b[0m\u001b[0;34m\u001b[0m\u001b[0m\n",
            "\u001b[0;32m/usr/local/lib/python3.7/dist-packages/music21/stream/core.py\u001b[0m in \u001b[0;36mcoreGuardBeforeAddElement\u001b[0;34m(self, element, checkRedundancy)\u001b[0m\n\u001b[1;32m    303\u001b[0m         \u001b[0;31m# using id() here b/c we do not want to get __eq__ comparisons\u001b[0m\u001b[0;34m\u001b[0m\u001b[0;34m\u001b[0m\u001b[0;34m\u001b[0m\u001b[0m\n\u001b[1;32m    304\u001b[0m         \u001b[0;32mif\u001b[0m \u001b[0melement\u001b[0m \u001b[0;32mis\u001b[0m \u001b[0mself\u001b[0m\u001b[0;34m:\u001b[0m \u001b[0;31m# cannot add this Stream into itself\u001b[0m\u001b[0;34m\u001b[0m\u001b[0;34m\u001b[0m\u001b[0m\n\u001b[0;32m--> 305\u001b[0;31m             \u001b[0;32mraise\u001b[0m \u001b[0mStreamException\u001b[0m\u001b[0;34m(\u001b[0m\u001b[0;34m\"this Stream cannot be contained within itself\"\u001b[0m\u001b[0;34m)\u001b[0m\u001b[0;34m\u001b[0m\u001b[0;34m\u001b[0m\u001b[0m\n\u001b[0m\u001b[1;32m    306\u001b[0m         \u001b[0;32mif\u001b[0m \u001b[0mcheckRedundancy\u001b[0m\u001b[0;34m:\u001b[0m\u001b[0;34m\u001b[0m\u001b[0;34m\u001b[0m\u001b[0m\n\u001b[1;32m    307\u001b[0m             \u001b[0midElement\u001b[0m \u001b[0;34m=\u001b[0m \u001b[0mid\u001b[0m\u001b[0;34m(\u001b[0m\u001b[0melement\u001b[0m\u001b[0;34m)\u001b[0m\u001b[0;34m\u001b[0m\u001b[0;34m\u001b[0m\u001b[0m\n",
            "\u001b[0;31mStreamException\u001b[0m: this Stream cannot be contained within itself"
          ]
        }
      ]
    },
    {
      "cell_type": "code",
      "metadata": {
        "id": "1aHrDIBC2KKD"
      },
      "source": [
        ""
      ],
      "execution_count": 43,
      "outputs": []
    }
  ]
}